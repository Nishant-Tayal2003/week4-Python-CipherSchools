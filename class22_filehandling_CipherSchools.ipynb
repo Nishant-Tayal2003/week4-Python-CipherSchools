{
 "cells": [
  {
   "cell_type": "code",
   "execution_count": 2,
   "metadata": {},
   "outputs": [],
   "source": [
    "file=open(\"random.txt\", \"w\")\n",
    "file.write(\"my name is nishant\")\n",
    "file.write(\"\\n new line\")\n",
    "file.close()"
   ]
  },
  {
   "cell_type": "code",
   "execution_count": 4,
   "metadata": {},
   "outputs": [],
   "source": [
    "file=open(\"random.txt\",\"w\")\n",
    "a=[\"nishant\",\"tayal\",\"nishanttayal\"]\n",
    "file.writelines(a)\n",
    "file.close()"
   ]
  },
  {
   "cell_type": "code",
   "execution_count": 6,
   "metadata": {},
   "outputs": [
    {
     "name": "stdout",
     "output_type": "stream",
     "text": [
      "nishanttayalnishanttayal\n"
     ]
    }
   ],
   "source": [
    "with open(\"random.txt\",\"r\") as file:\n",
    "    print(file.read())"
   ]
  },
  {
   "cell_type": "code",
   "execution_count": 8,
   "metadata": {},
   "outputs": [
    {
     "name": "stdout",
     "output_type": "stream",
     "text": [
      "entered\n",
      "Inside content\n",
      "exited\n",
      "outside content\n"
     ]
    }
   ],
   "source": [
    "class A:\n",
    "    def __enter__(self):\n",
    "        print(\"entered\")\n",
    "    def __exit__(self,*args):\n",
    "        print(\"exited\")\n",
    "with A():\n",
    "    print(\"Inside content\")\n",
    "print(\"outside content\")\n"
   ]
  },
  {
   "cell_type": "code",
   "execution_count": 9,
   "metadata": {},
   "outputs": [
    {
     "name": "stdout",
     "output_type": "stream",
     "text": [
      "entered\n",
      "1\n",
      "Inside content\n",
      "exited\n",
      "(None, None, None)\n",
      "outside content\n"
     ]
    }
   ],
   "source": [
    "class A:\n",
    "    def __enter__(self):\n",
    "        print(\"entered\")\n",
    "        return 1\n",
    "    def __exit__(self,*args):\n",
    "        print(\"exited\")\n",
    "        print(args)\n",
    "with A() as x:\n",
    "    print(x)\n",
    "    print(\"Inside content\")\n",
    "print(\"outside content\")"
   ]
  },
  {
   "cell_type": "code",
   "execution_count": 11,
   "metadata": {},
   "outputs": [
    {
     "name": "stdout",
     "output_type": "stream",
     "text": [
      "entered\n",
      "1\n",
      "Inside content\n",
      "exited\n",
      "(<class 'Exception'>, Exception(), <traceback object at 0x00000233B5164C40>)\n",
      "outside content\n"
     ]
    }
   ],
   "source": [
    "class A:\n",
    "    def __enter__(self):\n",
    "        print(\"entered\")\n",
    "        return 1\n",
    "    def __exit__(self,*args):\n",
    "        print(\"exited\")\n",
    "        print(args)\n",
    "        return True\n",
    "with A() as x:\n",
    "    print(x)\n",
    "    print(\"Inside content\")\n",
    "    raise Exception\n",
    "print(\"outside content\")"
   ]
  }
 ],
 "metadata": {
  "kernelspec": {
   "display_name": "Python 3",
   "language": "python",
   "name": "python3"
  },
  "language_info": {
   "codemirror_mode": {
    "name": "ipython",
    "version": 3
   },
   "file_extension": ".py",
   "mimetype": "text/x-python",
   "name": "python",
   "nbconvert_exporter": "python",
   "pygments_lexer": "ipython3",
   "version": "3.10.9"
  },
  "orig_nbformat": 4,
  "vscode": {
   "interpreter": {
    "hash": "ba37d69516b96b2df66115ef342e83722e1a1518f5d2e0ee41eb08141fa2fe2a"
   }
  }
 },
 "nbformat": 4,
 "nbformat_minor": 2
}
